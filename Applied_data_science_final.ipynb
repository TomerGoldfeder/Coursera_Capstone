{
 "cells": [
  {
   "cell_type": "markdown",
   "metadata": {},
   "source": [
    "# Final Assignment for Applied Data Science"
   ]
  },
  {
   "cell_type": "markdown",
   "metadata": {},
   "source": [
    "### Intoduction"
   ]
  },
  {
   "cell_type": "markdown",
   "metadata": {},
   "source": [
    "In our days there is a trend to travel overseas to enjoy new food, as a food \n",
    "enthusiastic I would like to know if a certain city has similar cuisines as in\n",
    "my country. Usually this requires me to go and search the web for restaurants in the \n",
    "country that i'm traveling to.\n",
    "I will try to tackle the problem using the Foursquare data to figure the similarity\n",
    "in cuisines between two cities."
   ]
  },
  {
   "cell_type": "markdown",
   "metadata": {},
   "source": [
    "### Data"
   ]
  },
  {
   "cell_type": "markdown",
   "metadata": {},
   "source": [
    "The data that i will get from the API will give me the restaurants in the area \n",
    "that i'm looking to travel.  \n",
    "For each of the restaurants i will extract the category of the restaurant and location."
   ]
  },
  {
   "cell_type": "code",
   "execution_count": 5,
   "metadata": {},
   "outputs": [
    {
     "data": {
      "text/html": [
       "<div>\n",
       "<style scoped>\n",
       "    .dataframe tbody tr th:only-of-type {\n",
       "        vertical-align: middle;\n",
       "    }\n",
       "\n",
       "    .dataframe tbody tr th {\n",
       "        vertical-align: top;\n",
       "    }\n",
       "\n",
       "    .dataframe thead th {\n",
       "        text-align: right;\n",
       "    }\n",
       "</style>\n",
       "<table border=\"1\" class=\"dataframe\">\n",
       "  <thead>\n",
       "    <tr style=\"text-align: right;\">\n",
       "      <th></th>\n",
       "      <th>Name</th>\n",
       "      <th>Category</th>\n",
       "      <th>Latitude</th>\n",
       "      <th>Longitude</th>\n",
       "    </tr>\n",
       "  </thead>\n",
       "  <tbody>\n",
       "    <tr>\n",
       "      <th>0</th>\n",
       "      <td>Bari</td>\n",
       "      <td>Sandwiches</td>\n",
       "      <td>41.891178</td>\n",
       "      <td>-87.655628</td>\n",
       "    </tr>\n",
       "    <tr>\n",
       "      <th>1</th>\n",
       "      <td>Lost Larson Bakery</td>\n",
       "      <td>Bakery</td>\n",
       "      <td>41.978617</td>\n",
       "      <td>-87.668411</td>\n",
       "    </tr>\n",
       "    <tr>\n",
       "      <th>2</th>\n",
       "      <td>Publican Quality Meats</td>\n",
       "      <td>Deli / Bodega</td>\n",
       "      <td>41.886642</td>\n",
       "      <td>-87.648718</td>\n",
       "    </tr>\n",
       "    <tr>\n",
       "      <th>3</th>\n",
       "      <td>Joe's Seafood, Prime Steak &amp; Stone Crab</td>\n",
       "      <td>Seafood</td>\n",
       "      <td>41.891828</td>\n",
       "      <td>-87.625444</td>\n",
       "    </tr>\n",
       "    <tr>\n",
       "      <th>4</th>\n",
       "      <td>Weber's Bakery</td>\n",
       "      <td>Bakery</td>\n",
       "      <td>41.791695</td>\n",
       "      <td>-87.798656</td>\n",
       "    </tr>\n",
       "  </tbody>\n",
       "</table>\n",
       "</div>"
      ],
      "text/plain": [
       "                                      Name       Category   Latitude  \\\n",
       "0                                     Bari     Sandwiches  41.891178   \n",
       "1                       Lost Larson Bakery         Bakery  41.978617   \n",
       "2                   Publican Quality Meats  Deli / Bodega  41.886642   \n",
       "3  Joe's Seafood, Prime Steak & Stone Crab        Seafood  41.891828   \n",
       "4                           Weber's Bakery         Bakery  41.791695   \n",
       "\n",
       "   Longitude  \n",
       "0 -87.655628  \n",
       "1 -87.668411  \n",
       "2 -87.648718  \n",
       "3 -87.625444  \n",
       "4 -87.798656  "
      ]
     },
     "execution_count": 5,
     "metadata": {},
     "output_type": "execute_result"
    }
   ],
   "source": [
    "import pandas as pd\n",
    "pd.read_csv('Chicago.csv')[['Name', 'Category', 'Latitude', 'Longitude']].head()"
   ]
  },
  {
   "cell_type": "markdown",
   "metadata": {},
   "source": [
    "Using this table i will see the percentage of each category in this area (the range will be 0-1)."
   ]
  },
  {
   "cell_type": "markdown",
   "metadata": {},
   "source": [
    "After getting the data for each city i will intersect the tables and get a list of similar cuisines.\n",
    "I will add the percentages in the list according to the table of the city that i'm comparing to."
   ]
  },
  {
   "cell_type": "markdown",
   "metadata": {},
   "source": [
    "The closer we get to 1.0 the similar the cities are."
   ]
  },
  {
   "cell_type": "code",
   "execution_count": null,
   "metadata": {},
   "outputs": [],
   "source": []
  }
 ],
 "metadata": {
  "kernelspec": {
   "display_name": "Python 3",
   "language": "python",
   "name": "python3"
  },
  "language_info": {
   "codemirror_mode": {
    "name": "ipython",
    "version": 3
   },
   "file_extension": ".py",
   "mimetype": "text/x-python",
   "name": "python",
   "nbconvert_exporter": "python",
   "pygments_lexer": "ipython3",
   "version": "3.7.3"
  }
 },
 "nbformat": 4,
 "nbformat_minor": 2
}
